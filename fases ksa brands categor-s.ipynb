{
 "cells": [
  {
   "cell_type": "code",
   "execution_count": null,
   "id": "c470de77",
   "metadata": {},
   "outputs": [],
   "source": [
    "import pandas as pd\n",
    "import numpy as np\n"
   ]
  },
  {
   "cell_type": "code",
   "execution_count": null,
   "id": "08dade8f",
   "metadata": {},
   "outputs": [],
   "source": [
    "\n",
    "# Читаем файл\n",
    "df = pd.read_csv(r'C:\\Users\\Stukova_a\\Documents\\competitors_price_faces_KSA.txt', \n",
    "                 delimiter=';', \n",
    "                 encoding='cp1251')\n",
    "\n",
    "# Находим колонки, которые содержат '|'\n",
    "for column in df.columns:\n",
    "    if df[column].dtype == 'object':  # Проверяем только текстовые колонки\n",
    "        if df[column].str.contains('|', regex=False).any():\n",
    "            # Разбиваем колонку на несколько новых\n",
    "            split_cols = df[column].str.split('|', expand=True)\n",
    "            \n",
    "            # Называем новые колонки\n",
    "            for i in range(len(split_cols.columns)):\n",
    "                new_col_name = f\"{column}_{i+1}\"\n",
    "                df[new_col_name] = split_cols[i]\n",
    "            \n",
    "            # Удаляем исходную колонку\n",
    "            df = df.drop(columns=[column])\n"
   ]
  },
  {
   "cell_type": "code",
   "execution_count": null,
   "id": "65858755",
   "metadata": {},
   "outputs": [],
   "source": [
    "# Создаем словарь для переименования колонок\n",
    "df.columns = ['Пусто', 'Дата', 'Категория', 'Бренд', 'Наличие', 'Цена1', 'Цена2','Пусто' ]\n",
    "\n",
    "# Удаляем колонки _7 и _8\n",
    "#df = df.drop(['|marketCollected |category1|marketDiscountPrice|marketBrandGoldenApple |marketPriceValue|marketAvailability|_7',\n",
    " #            '|marketCollected |category1|marketDiscountPrice|marketBrandGoldenApple |marketPriceValue|marketAvailability|_8'], axis=1)\n",
    "\n",
    "# Выводим первые строки датафрейма для проверки\n",
    "print(df.head())"
   ]
  },
  {
   "cell_type": "code",
   "execution_count": null,
   "id": "60f15982",
   "metadata": {},
   "outputs": [],
   "source": [
    "df"
   ]
  },
  {
   "cell_type": "code",
   "execution_count": null,
   "id": "7efd7fad",
   "metadata": {},
   "outputs": [],
   "source": [
    "df = df.drop(0)\n",
    "\n",
    "# Удаляем первую и последнюю колонки\n",
    "df = df.drop(['Пусто', 'Наличие'], axis=1)\n",
    "\n",
    "print(df.head())"
   ]
  },
  {
   "cell_type": "code",
   "execution_count": null,
   "id": "709a7f24",
   "metadata": {},
   "outputs": [],
   "source": [
    "df['Цена1'] = pd.to_numeric(df['Цена1'], errors='coerce')\n",
    "df['Цена2'] = pd.to_numeric(df['Цена2'], errors='coerce')\n",
    "\n",
    "# Вычисляем скидку в процентах\n",
    "df['Скидка %'] = ((df['Цена2'] - df['Цена1']) / df['Цена2'] * 100).round(2)\n",
    "\n",
    "print(df.head())"
   ]
  },
  {
   "cell_type": "code",
   "execution_count": null,
   "id": "79d8178e",
   "metadata": {},
   "outputs": [],
   "source": [
    "# Добавляем столбцы с неделей и месяцем года\n",
    "df['Неделя года'] = pd.to_datetime(df['Дата']).dt.isocalendar().week\n",
    "df['Месяц'] = pd.to_datetime(df['Дата']).dt.month\n",
    "\n",
    "pivot_df = pd.pivot_table(df,\n",
    "                        values=['Скидка %'],\n",
    "                        index=['Дата', 'Бренд', 'Неделя года', 'Месяц'],\n",
    "                        aggfunc={\n",
    "                            'Скидка %': ['mean', 'count']\n",
    "                        }).round(2)\n",
    "\n",
    "pivot_df.columns = ['Средняя скидка', 'Количество SKU']\n",
    "pivot_df = pivot_df.reset_index()\n",
    "\n",
    "# Сохраняем в Excel\n",
    "# pivot_df.to_excel('sephora_daily_brand_analysis.xlsx', index=False)\n",
    "\n",
    "print(pivot_df.head())"
   ]
  },
  {
   "cell_type": "code",
   "execution_count": null,
   "id": "2e23d484",
   "metadata": {},
   "outputs": [],
   "source": [
    "# Оставляем только нужные колонки\n",
    "df = df[['Дата', 'Бренд', 'Скидка %', 'Неделя года', 'Месяц']]\n",
    "\n",
    "print(df.head())\n"
   ]
  },
  {
   "cell_type": "code",
   "execution_count": null,
   "id": "78e1b7e3",
   "metadata": {},
   "outputs": [],
   "source": [
    "df['Дата'] = pd.to_datetime(df['Дата']).dt.date"
   ]
  },
  {
   "cell_type": "code",
   "execution_count": null,
   "id": "9d1fc993",
   "metadata": {},
   "outputs": [],
   "source": [
    "df"
   ]
  },
  {
   "cell_type": "code",
   "execution_count": null,
   "id": "90255025",
   "metadata": {
    "scrolled": true
   },
   "outputs": [],
   "source": [
    "\n",
    "# Преобразуем дату в формат даты и сортируем\n",
    "df['Дата'] = pd.to_datetime(df['Дата']).dt.date\n",
    "df = df.sort_values(['Месяц', 'Дата'])\n",
    "\n",
    "# Проверяем уникальные месяцы\n",
    "print(\"Уникальные месяцы в данных:\")\n",
    "print(df['Месяц'].unique())\n",
    "\n",
    "# Проверяем диапазон дат\n",
    "print(\"\\nДиапазон дат:\")\n",
    "print(\"Начало:\", df['Дата'].min())\n",
    "print(\"Конец:\", df['Дата'].max())\n",
    "\n",
    "\n"
   ]
  },
  {
   "cell_type": "code",
   "execution_count": null,
   "id": "f3359b6c",
   "metadata": {},
   "outputs": [],
   "source": [
    "df_discounted = df[df['Скидка %'] > 0]\n",
    "\n",
    "discount_analysis = pd.pivot_table(df_discounted,\n",
    "                                 index=['Бренд', 'Неделя года', 'Месяц'],\n",
    "                                 values='Скидка %',\n",
    "                                 aggfunc=['mean', 'count'])\n",
    "\n",
    "discount_analysis.columns = ['Средняя скидка', 'Количество SKU']\n",
    "discount_analysis = discount_analysis.round(2).reset_index()\n",
    "\n",
    "\n",
    "# Создаем словарь с названиями месяцев\n",
    "month_names = {\n",
    "   1: 'Январь',\n",
    "   2: 'Февраль',\n",
    "   3: 'Март',\n",
    "   4: 'Апрель',\n",
    "   5: 'Май',\n",
    "   6: 'Июнь',\n",
    "   7: 'Июль',\n",
    "   8: 'Август',\n",
    "   9: 'Сентябрь',\n",
    "   10: 'Октябрь',\n",
    "   11: 'Ноябрь',\n",
    "   12: 'Декабрь'\n",
    "}\n",
    "\n",
    "# Заменяем цифры на названия месяцев\n",
    "discount_analysis['Месяц'] = discount_analysis['Месяц'].map(month_names)\n",
    "\n",
    "print(discount_analysis.head())\n",
    "\n",
    "\n"
   ]
  },
  {
   "cell_type": "code",
   "execution_count": null,
   "id": "13542011",
   "metadata": {},
   "outputs": [],
   "source": [
    "\n",
    "discount_analysis.to_excel(r'C:\\Users\\Stukova_a\\Documents\\discount_analysis_faces_KSA.xlsx')\n",
    "\n",
    "print(discount_analysis)\n"
   ]
  },
  {
   "cell_type": "code",
   "execution_count": null,
   "id": "b26aabb9",
   "metadata": {},
   "outputs": [],
   "source": [
    "# Создаем второй DataFrame с нужным форматом\n",
    "monthly_analysis = pd.pivot_table(df_discounted,\n",
    "                               index=['Месяц', 'Неделя года'],\n",
    "                               values='Скидка %',\n",
    "                               aggfunc={'Скидка %': ['mean', 'count']}).round(2)\n",
    "\n",
    "monthly_analysis.columns = ['Средняя скидка', 'Количество SKU на промо']\n",
    "monthly_analysis = monthly_analysis.reset_index()\n",
    "\n",
    "# Заменяем цифры месяцев на названия\n",
    "monthly_analysis['Месяц'] = monthly_analysis['Месяц'].map(month_names)\n",
    "\n",
    "# Сортируем по месяцу и неделе\n",
    "monthly_analysis = monthly_analysis.sort_values(['Месяц', 'Неделя года'])\n",
    "\n",
    "# Записываем оба DataFrame в разные листы одного файла\n",
    "with pd.ExcelWriter(r'C:\\Users\\Stukova_a\\Documents\\discount_analysis_faces_KSA.xlsx') as writer:\n",
    "   discount_analysis.to_excel(writer, sheet_name='Brand_Analysis', index=False)\n",
    "   monthly_analysis.to_excel(writer, sheet_name='Monthly_Analysis', index=False)"
   ]
  },
  {
   "cell_type": "code",
   "execution_count": null,
   "id": "12d5e8d5",
   "metadata": {},
   "outputs": [],
   "source": []
  }
 ],
 "metadata": {
  "kernelspec": {
   "display_name": "Python 3 (ipykernel)",
   "language": "python",
   "name": "python3"
  },
  "language_info": {
   "codemirror_mode": {
    "name": "ipython",
    "version": 3
   },
   "file_extension": ".py",
   "mimetype": "text/x-python",
   "name": "python",
   "nbconvert_exporter": "python",
   "pygments_lexer": "ipython3",
   "version": "3.11.5"
  }
 },
 "nbformat": 4,
 "nbformat_minor": 5
}
