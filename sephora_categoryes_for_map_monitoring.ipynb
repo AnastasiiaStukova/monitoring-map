{
 "cells": [
  {
   "cell_type": "code",
   "execution_count": null,
   "id": "a3816fa1",
   "metadata": {},
   "outputs": [],
   "source": [
    "import pandas as pd\n",
    "import numpy as np"
   ]
  },
  {
   "cell_type": "code",
   "execution_count": null,
   "id": "3933198d",
   "metadata": {},
   "outputs": [],
   "source": [
    "# Читаем файл\n",
    "df = pd.read_csv(r'C:\\Users\\Stukova_a\\Documents\\competitors_price_sephora_202412241219.txt', \n",
    "                delimiter='\\t',\n",
    "                encoding='utf-8')\n",
    "\n",
    "# Разбиваем колонки по разделителю '|'\n",
    "split_df = df.iloc[:,0].str.split('|', expand=True)\n",
    "\n",
    "# Даем новые имена колонкам\n",
    "new_columns = [\n",
    "   'Пусто',\n",
    "   'marketRegionId',\n",
    "   'marketSource',\n",
    "   'marketMarketId', \n",
    "   'marketCollected',\n",
    "   'marketPriceCurrency',\n",
    "   'category1',\n",
    "   'category2',\n",
    "   'category3', \n",
    "   'category4',\n",
    "   'category5',\n",
    "   'article',\n",
    "   'marketUrl',\n",
    "   'marketBrandGoldenApple',\n",
    "   'marketName',\n",
    "   'prop_name',\n",
    "   'marketDiscountPrice',\n",
    "   'marketPriceValue',\n",
    "   'description',\n",
    "   'Пусто_1',\n",
    "   'Пусто_2',\n",
    "   'Пусто_3',\n",
    "   'Пусто_4',\n",
    "   'Пусто_5',\n",
    "   'Пусто_6',\n",
    "   'Пусто_7',\n",
    "   'Пусто_8',\n",
    "   'Пусто_9',\n",
    "   'Пусто_10'\n",
    "]\n",
    "\n",
    "split_df.columns = new_columns\n",
    "\n",
    "# Заменяем исходный датафрейм\n",
    "df = split_df\n",
    "\n",
    "print(df.head())"
   ]
  },
  {
   "cell_type": "code",
   "execution_count": null,
   "id": "95d034de",
   "metadata": {},
   "outputs": [],
   "source": [
    "df"
   ]
  },
  {
   "cell_type": "code",
   "execution_count": null,
   "id": "67f1668b",
   "metadata": {},
   "outputs": [],
   "source": [
    "# Читаем и обрабатываем датафрейм\n",
    "# Читаем и обрабатываем датафрейм\n",
    "df = df.drop(['marketCollected'] + [col for col in df.columns if 'Пусто' in col], axis=1)\n",
    "df.drop(['marketCollected'] + [col for col in df.columns if 'Пусто' in col], axis=1)\n",
    "\n",
    "# Удаляем пробелы\n",
    "df = df.apply(lambda x: x.str.strip() if x.dtype == \"object\" else x)\n",
    "\n",
    "# Удаляем дубликаты\n",
    "df = df.drop_duplicates()\n",
    "\n",
    "print(df.head())"
   ]
  },
  {
   "cell_type": "code",
   "execution_count": null,
   "id": "a933b2c7",
   "metadata": {},
   "outputs": [],
   "source": [
    "# Удаляем дубликаты\n",
    "df = df.drop_duplicates()"
   ]
  },
  {
   "cell_type": "code",
   "execution_count": null,
   "id": "0a4545fb",
   "metadata": {},
   "outputs": [],
   "source": [
    "# Удаляем пробелы и специальные символы\n",
    "df = df.apply(lambda x: x.str.strip().str.replace('¶', ' ') if x.dtype == \"object\" else x)\n"
   ]
  },
  {
   "cell_type": "code",
   "execution_count": null,
   "id": "068c7a18",
   "metadata": {},
   "outputs": [],
   "source": [
    "df"
   ]
  },
  {
   "cell_type": "code",
   "execution_count": null,
   "id": "7cec54b8",
   "metadata": {},
   "outputs": [],
   "source": [
    "df.to_excel(r'C:\\Users\\Stukova_a\\Documents\\cleaned_sephora_data.xlsx', index=False)"
   ]
  },
  {
   "cell_type": "code",
   "execution_count": null,
   "id": "359952f3",
   "metadata": {},
   "outputs": [],
   "source": [
    "#`python\n",
    "# Фильтруем датафрейм по значению \"Дубай\" в колонке marketRegionId\n",
    "df = df[df['marketRegionId'] == 'Дубай']\n",
    "\n",
    "# Сохраняем результат \n",
    "df.to_excel(r'C:\\Users\\Stukova_a\\Documents\\dubai_sephora.xlsx', index=False)\n",
    "#```"
   ]
  },
  {
   "cell_type": "code",
   "execution_count": null,
   "id": "93347262",
   "metadata": {},
   "outputs": [],
   "source": [
    "# Создаем словарь для обновленных категорий\n",
    "category_mapping = {\n",
    "   'FRAGRANCE': 'Парфюмерия', \n",
    "   'BATH & BODY': 'Для тела',\n",
    "   'MAKEUP': 'Макияж',\n",
    "   'SKINCARE': 'Уход за кожей',\n",
    "   'HAIR': 'Уход за волосами',\n",
    "   'Men\\'s Grooming': 'Для мужчин',\n",
    "   # Добавляем ваши дополнительные категории из Sephora по аналогии\n",
    "}\n",
    "\n",
    "\n",
    "\n",
    "# Заменяем значения\n",
    "df['category1'] = df['category1'].map(category_mapping)\n",
    "\n",
    "# Сохраняем результат\n",
    "df.to_excel(r'C:\\Users\\Stukova_a\\Documents\\updated_categories.xlsx', index=False)"
   ]
  },
  {
   "cell_type": "code",
   "execution_count": null,
   "id": "e1c458ef",
   "metadata": {},
   "outputs": [],
   "source": [
    "df"
   ]
  },
  {
   "cell_type": "code",
   "execution_count": null,
   "id": "27c3f645",
   "metadata": {},
   "outputs": [],
   "source": []
  },
  {
   "cell_type": "code",
   "execution_count": null,
   "id": "67807ac2",
   "metadata": {},
   "outputs": [],
   "source": []
  }
 ],
 "metadata": {
  "kernelspec": {
   "display_name": "Python 3 (ipykernel)",
   "language": "python",
   "name": "python3"
  },
  "language_info": {
   "codemirror_mode": {
    "name": "ipython",
    "version": 3
   },
   "file_extension": ".py",
   "mimetype": "text/x-python",
   "name": "python",
   "nbconvert_exporter": "python",
   "pygments_lexer": "ipython3",
   "version": "3.11.5"
  }
 },
 "nbformat": 4,
 "nbformat_minor": 5
}
